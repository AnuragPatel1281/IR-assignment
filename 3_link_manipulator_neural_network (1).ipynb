{
  "nbformat": 4,
  "nbformat_minor": 0,
  "metadata": {
    "colab": {
      "name": "3_link_manipulator_neural_network.ipynb",
      "provenance": []
    },
    "kernelspec": {
      "display_name": "Python 3",
      "language": "python",
      "name": "python3"
    },
    "language_info": {
      "codemirror_mode": {
        "name": "ipython",
        "version": 3
      },
      "file_extension": ".py",
      "mimetype": "text/x-python",
      "name": "python",
      "nbconvert_exporter": "python",
      "pygments_lexer": "ipython3",
      "version": "3.8.5"
    }
  },
  "cells": [
    {
      "cell_type": "code",
      "metadata": {
        "id": "aWprP5u0NymD"
      },
      "source": [
        "import pandas as pd\n",
        "import math\n",
        "import random\n",
        "import matplotlib.pyplot as plt\n",
        "from sklearn.model_selection import train_test_split\n",
        "from keras import models\n",
        "from keras import layers\n",
        "from keras import regularizers\n",
        "import numpy as np"
      ],
      "execution_count": 1,
      "outputs": []
    },
    {
      "cell_type": "code",
      "metadata": {
        "id": "c1WfsiocNz-S"
      },
      "source": [
        "l1 = l2 = l3 = 7"
      ],
      "execution_count": 2,
      "outputs": []
    },
    {
      "cell_type": "code",
      "metadata": {
        "id": "8gYDuyTjN1do"
      },
      "source": [
        "## Generating dataset for training\n",
        "\n",
        "def three_link_manipulator_dataset():\n",
        "    rows = []\n",
        "    for i in range(1, 100000):\n",
        "        theta1 = round(random.uniform(0, math.pi), 2)\n",
        "        theta2 = round(random.uniform(-math.pi, 0), 2)\n",
        "        theta3 = round(random.uniform(-math.pi/2, math.pi/2), 2)\n",
        "        \n",
        "        x = round(l1*math.cos(theta1)+l2*math.cos(theta1+theta2)+l3*math.cos(theta1+theta2+theta3), 2)\n",
        "        y = round(l1*math.sin(theta1)+l2*math.sin(theta1+theta2)+l3*math.sin(theta1+theta2+theta3), 2)\n",
        "        phi = round(math.degrees(theta1)+math.degrees(theta2)+math.degrees(theta3), 2)\n",
        "        \n",
        "        rows.append([theta1, theta2, theta3, x, y, phi])\n",
        "\n",
        "    df = pd.DataFrame(rows, columns=['theta1', 'theta2', 'theta3', 'x', 'y', 'phi'])\n",
        "    df.to_csv('three_link.csv', index=False)\n",
        "    \n",
        "three_link_manipulator_dataset()"
      ],
      "execution_count": 3,
      "outputs": []
    },
    {
      "cell_type": "code",
      "metadata": {
        "colab": {
          "base_uri": "https://localhost:8080/",
          "height": 195
        },
        "id": "3RBpYrFRN5Ir",
        "outputId": "054899fc-1c2d-407c-c252-b6b9f06eaf03"
      },
      "source": [
        "three_link_data = pd.read_csv('three_link.csv')\n",
        "three_link_data.head()"
      ],
      "execution_count": 4,
      "outputs": [
        {
          "output_type": "execute_result",
          "data": {
            "text/html": [
              "<div>\n",
              "<style scoped>\n",
              "    .dataframe tbody tr th:only-of-type {\n",
              "        vertical-align: middle;\n",
              "    }\n",
              "\n",
              "    .dataframe tbody tr th {\n",
              "        vertical-align: top;\n",
              "    }\n",
              "\n",
              "    .dataframe thead th {\n",
              "        text-align: right;\n",
              "    }\n",
              "</style>\n",
              "<table border=\"1\" class=\"dataframe\">\n",
              "  <thead>\n",
              "    <tr style=\"text-align: right;\">\n",
              "      <th></th>\n",
              "      <th>theta1</th>\n",
              "      <th>theta2</th>\n",
              "      <th>theta3</th>\n",
              "      <th>x</th>\n",
              "      <th>y</th>\n",
              "      <th>phi</th>\n",
              "    </tr>\n",
              "  </thead>\n",
              "  <tbody>\n",
              "    <tr>\n",
              "      <th>0</th>\n",
              "      <td>0.68</td>\n",
              "      <td>-1.34</td>\n",
              "      <td>-0.93</td>\n",
              "      <td>10.84</td>\n",
              "      <td>-6.89</td>\n",
              "      <td>-91.10</td>\n",
              "    </tr>\n",
              "    <tr>\n",
              "      <th>1</th>\n",
              "      <td>0.62</td>\n",
              "      <td>-0.01</td>\n",
              "      <td>-1.32</td>\n",
              "      <td>16.74</td>\n",
              "      <td>3.51</td>\n",
              "      <td>-40.68</td>\n",
              "    </tr>\n",
              "    <tr>\n",
              "      <th>2</th>\n",
              "      <td>1.29</td>\n",
              "      <td>-1.85</td>\n",
              "      <td>0.83</td>\n",
              "      <td>14.62</td>\n",
              "      <td>4.87</td>\n",
              "      <td>15.47</td>\n",
              "    </tr>\n",
              "    <tr>\n",
              "      <th>3</th>\n",
              "      <td>0.45</td>\n",
              "      <td>-0.31</td>\n",
              "      <td>-0.79</td>\n",
              "      <td>18.81</td>\n",
              "      <td>-0.21</td>\n",
              "      <td>-37.24</td>\n",
              "    </tr>\n",
              "    <tr>\n",
              "      <th>4</th>\n",
              "      <td>0.79</td>\n",
              "      <td>-2.42</td>\n",
              "      <td>-0.59</td>\n",
              "      <td>0.28</td>\n",
              "      <td>-7.59</td>\n",
              "      <td>-127.20</td>\n",
              "    </tr>\n",
              "  </tbody>\n",
              "</table>\n",
              "</div>"
            ],
            "text/plain": [
              "   theta1  theta2  theta3      x     y     phi\n",
              "0    0.68   -1.34   -0.93  10.84 -6.89  -91.10\n",
              "1    0.62   -0.01   -1.32  16.74  3.51  -40.68\n",
              "2    1.29   -1.85    0.83  14.62  4.87   15.47\n",
              "3    0.45   -0.31   -0.79  18.81 -0.21  -37.24\n",
              "4    0.79   -2.42   -0.59   0.28 -7.59 -127.20"
            ]
          },
          "metadata": {
            "tags": []
          },
          "execution_count": 4
        }
      ]
    },
    {
      "cell_type": "code",
      "metadata": {
        "colab": {
          "base_uri": "https://localhost:8080/",
          "height": 265
        },
        "id": "GtS_5sBaN9r_",
        "outputId": "208a3fce-148f-47f2-dbad-d8ed0a43daba"
      },
      "source": [
        "plt.scatter(three_link_data['x'], three_link_data['y'])\n",
        "plt.show()"
      ],
      "execution_count": 5,
      "outputs": [
        {
          "output_type": "display_data",
          "data": {
            "image/png": "[encoded data removed]",
            "text/plain": [
              "<Figure size 432x288 with 1 Axes>"
            ]
          },
          "metadata": {
            "tags": [],
            "needs_background": "light"
          }
        }
      ]
    },
    {
      "cell_type": "code",
      "metadata": {
        "id": "B1gupLqyN_0Z"
      },
      "source": [
        "# Splitting training and testing dataset\n",
        "X = three_link_data[['x', 'y', 'phi']]\n",
        "y = three_link_data[['theta1', 'theta2', 'theta3']]\n",
        "train_X, test_X, train_y, test_y = train_test_split(X, y, test_size=0.1)"
      ],
      "execution_count": 6,
      "outputs": []
    },
    {
      "cell_type": "code",
      "metadata": {
        "colab": {
          "base_uri": "https://localhost:8080/"
        },
        "id": "JYAMcXxXOBrg",
        "outputId": "19bbb1b0-a9ca-44c0-cd1f-0f3eb34c8f97"
      },
      "source": [
        "# Defining model\n",
        "\n",
        "model = models.Sequential()\n",
        "model.add(layers.Dense(units=3, input_dim=3, kernel_initializer='uniform'))\n",
        "model.add(layers.Dense(units=100, kernel_initializer='uniform', activation='relu'))\n",
        "model.add(layers.Dense(units=100, kernel_initializer='uniform', activation='relu'))\n",
        "model.add(layers.Dense(units=3, kernel_initializer = 'uniform', activation='linear'))\n",
        "\n",
        "model.summary()"
      ],
      "execution_count": 7,
      "outputs": [
        {
          "output_type": "stream",
          "text": [
            "Model: \"sequential\"\n",
            "_________________________________________________________________\n",
            "Layer (type)                 Output Shape              Param #   \n",
            "=================================================================\n",
            "dense (Dense)                (None, 3)                 12        \n",
            "_________________________________________________________________\n",
            "dense_1 (Dense)              (None, 100)               400       \n",
            "_________________________________________________________________\n",
            "dense_2 (Dense)              (None, 100)               10100     \n",
            "_________________________________________________________________\n",
            "dense_3 (Dense)              (None, 3)                 303       \n",
            "=================================================================\n",
            "Total params: 10,815\n",
            "Trainable params: 10,815\n",
            "Non-trainable params: 0\n",
            "_________________________________________________________________\n"
          ],
          "name": "stdout"
        }
      ]
    },
    {
      "cell_type": "code",
      "metadata": {
        "id": "h-VQYVlZOEa0"
      },
      "source": [
        "model.compile(optimizer='adam', loss='mean_squared_error', metrics=['accuracy'])"
      ],
      "execution_count": 8,
      "outputs": []
    },
    {
      "cell_type": "code",
      "metadata": {
        "colab": {
          "base_uri": "https://localhost:8080/"
        },
        "id": "sOjBwo9oOGf5",
        "outputId": "6675c8d7-e40e-4239-9cb3-1e953775d848"
      },
      "source": [
        "# Training model\n",
        "\n",
        "history = model.fit(train_X, train_y, epochs=30, validation_split=0.1, shuffle=True)"
      ],
      "execution_count": 9,
      "outputs": [
        {
          "output_type": "stream",
          "text": [
            "Epoch 1/30\n",
            "2532/2532 [==============================] - 7s 2ms/step - loss: 0.4712 - accuracy: 0.9015 - val_loss: 0.0416 - val_accuracy: 0.9637\n",
            "Epoch 2/30\n",
            "2532/2532 [==============================] - 6s 2ms/step - loss: 0.0375 - accuracy: 0.9637 - val_loss: 0.0244 - val_accuracy: 0.9661\n",
            "Epoch 3/30\n",
            "2532/2532 [==============================] - 5s 2ms/step - loss: 0.0272 - accuracy: 0.9711 - val_loss: 0.0214 - val_accuracy: 0.9780\n",
            "Epoch 4/30\n",
            "2532/2532 [==============================] - 5s 2ms/step - loss: 0.0241 - accuracy: 0.9727 - val_loss: 0.0194 - val_accuracy: 0.9759\n",
            "Epoch 5/30\n",
            "2532/2532 [==============================] - 6s 2ms/step - loss: 0.0224 - accuracy: 0.9737 - val_loss: 0.0226 - val_accuracy: 0.9689\n",
            "Epoch 6/30\n",
            "2532/2532 [==============================] - 5s 2ms/step - loss: 0.0198 - accuracy: 0.9748 - val_loss: 0.0194 - val_accuracy: 0.9753\n",
            "Epoch 7/30\n",
            "2532/2532 [==============================] - 6s 2ms/step - loss: 0.0180 - accuracy: 0.9763 - val_loss: 0.0181 - val_accuracy: 0.9716\n",
            "Epoch 8/30\n",
            "2532/2532 [==============================] - 5s 2ms/step - loss: 0.0172 - accuracy: 0.9765 - val_loss: 0.0171 - val_accuracy: 0.9747\n",
            "Epoch 9/30\n",
            "2532/2532 [==============================] - 5s 2ms/step - loss: 0.0164 - accuracy: 0.9791 - val_loss: 0.0155 - val_accuracy: 0.9796\n",
            "Epoch 10/30\n",
            "2532/2532 [==============================] - 6s 2ms/step - loss: 0.0154 - accuracy: 0.9800 - val_loss: 0.0197 - val_accuracy: 0.9740\n",
            "Epoch 11/30\n",
            "2532/2532 [==============================] - 5s 2ms/step - loss: 0.0148 - accuracy: 0.9798 - val_loss: 0.0123 - val_accuracy: 0.9817\n",
            "Epoch 12/30\n",
            "2532/2532 [==============================] - 6s 2ms/step - loss: 0.0153 - accuracy: 0.9805 - val_loss: 0.0170 - val_accuracy: 0.9697\n",
            "Epoch 13/30\n",
            "2532/2532 [==============================] - 6s 2ms/step - loss: 0.0137 - accuracy: 0.9808 - val_loss: 0.0121 - val_accuracy: 0.9827\n",
            "Epoch 14/30\n",
            "2532/2532 [==============================] - 6s 2ms/step - loss: 0.0141 - accuracy: 0.9809 - val_loss: 0.0113 - val_accuracy: 0.9811\n",
            "Epoch 15/30\n",
            "2532/2532 [==============================] - 6s 2ms/step - loss: 0.0140 - accuracy: 0.9805 - val_loss: 0.0133 - val_accuracy: 0.9860\n",
            "Epoch 16/30\n",
            "2532/2532 [==============================] - 6s 2ms/step - loss: 0.0135 - accuracy: 0.9811 - val_loss: 0.0117 - val_accuracy: 0.9861\n",
            "Epoch 17/30\n",
            "2532/2532 [==============================] - 5s 2ms/step - loss: 0.0135 - accuracy: 0.9808 - val_loss: 0.0091 - val_accuracy: 0.9847\n",
            "Epoch 18/30\n",
            "2532/2532 [==============================] - 5s 2ms/step - loss: 0.0125 - accuracy: 0.9821 - val_loss: 0.0207 - val_accuracy: 0.9828\n",
            "Epoch 19/30\n",
            "2532/2532 [==============================] - 5s 2ms/step - loss: 0.0132 - accuracy: 0.9831 - val_loss: 0.0161 - val_accuracy: 0.9760\n",
            "Epoch 20/30\n",
            "2532/2532 [==============================] - 5s 2ms/step - loss: 0.0131 - accuracy: 0.9810 - val_loss: 0.0150 - val_accuracy: 0.9848\n",
            "Epoch 21/30\n",
            "2532/2532 [==============================] - 5s 2ms/step - loss: 0.0118 - accuracy: 0.9827 - val_loss: 0.0311 - val_accuracy: 0.9741\n",
            "Epoch 22/30\n",
            "2532/2532 [==============================] - 5s 2ms/step - loss: 0.0132 - accuracy: 0.9822 - val_loss: 0.0200 - val_accuracy: 0.9758\n",
            "Epoch 23/30\n",
            "2532/2532 [==============================] - 5s 2ms/step - loss: 0.0138 - accuracy: 0.9817 - val_loss: 0.0115 - val_accuracy: 0.9856\n",
            "Epoch 24/30\n",
            "2532/2532 [==============================] - 5s 2ms/step - loss: 0.0123 - accuracy: 0.9821 - val_loss: 0.0170 - val_accuracy: 0.9833\n",
            "Epoch 25/30\n",
            "2532/2532 [==============================] - 5s 2ms/step - loss: 0.0123 - accuracy: 0.9830 - val_loss: 0.0075 - val_accuracy: 0.9868\n",
            "Epoch 26/30\n",
            "2532/2532 [==============================] - 5s 2ms/step - loss: 0.0125 - accuracy: 0.9824 - val_loss: 0.0099 - val_accuracy: 0.9852\n",
            "Epoch 27/30\n",
            "2532/2532 [==============================] - 5s 2ms/step - loss: 0.0120 - accuracy: 0.9831 - val_loss: 0.0088 - val_accuracy: 0.9814\n",
            "Epoch 28/30\n",
            "2532/2532 [==============================] - 5s 2ms/step - loss: 0.0110 - accuracy: 0.9833 - val_loss: 0.0126 - val_accuracy: 0.9816\n",
            "Epoch 29/30\n",
            "2532/2532 [==============================] - 6s 2ms/step - loss: 0.0115 - accuracy: 0.9836 - val_loss: 0.0104 - val_accuracy: 0.9850\n",
            "Epoch 30/30\n",
            "2532/2532 [==============================] - 6s 2ms/step - loss: 0.0115 - accuracy: 0.9840 - val_loss: 0.0094 - val_accuracy: 0.9848\n"
          ],
          "name": "stdout"
        }
      ]
    },
    {
      "cell_type": "code",
      "metadata": {
        "colab": {
          "base_uri": "https://localhost:8080/",
          "height": 295
        },
        "id": "0LEm7MV7OKFP",
        "outputId": "8d1035a3-2cf3-4087-b3d7-f0dfde290bdc"
      },
      "source": [
        "# Plotting model accuracy\n",
        "\n",
        "plt.plot(history.history['accuracy'])\n",
        "plt.plot(history.history['val_accuracy'])\n",
        "plt.title('model accuracy')\n",
        "plt.ylabel('accuracy')\n",
        "plt.xlabel('epoch')\n",
        "plt.legend(['train', 'val'], loc='upper left')\n",
        "plt.show()"
      ],
      "execution_count": 10,
      "outputs": [
        {
          "output_type": "display_data",
          "data": {
            "image/png": "[encoded data removed]",
            "text/plain": [
              "<Figure size 432x288 with 1 Axes>"
            ]
          },
          "metadata": {
            "tags": [],
            "needs_background": "light"
          }
        }
      ]
    },
    {
      "cell_type": "code",
      "metadata": {
        "colab": {
          "base_uri": "https://localhost:8080/",
          "height": 295
        },
        "id": "RZud03ziOpHo",
        "outputId": "7ddea277-76f8-4f6c-ed1d-6c2321bfdada"
      },
      "source": [
        "# Plotting model loss\n",
        "\n",
        "plt.plot(history.history['loss'])\n",
        "plt.plot(history.history['val_loss'])\n",
        "plt.title('model loss')\n",
        "plt.ylabel('loss')\n",
        "plt.xlabel('epoch')\n",
        "plt.legend(['train', 'val'], loc='upper left')\n",
        "plt.show()"
      ],
      "execution_count": 11,
      "outputs": [
        {
          "output_type": "display_data",
          "data": {
            "image/png": "[encoded data removed]",
            "text/plain": [
              "<Figure size 432x288 with 1 Axes>"
            ]
          },
          "metadata": {
            "tags": [],
            "needs_background": "light"
          }
        }
      ]
    },
    {
      "cell_type": "code",
      "metadata": {
        "colab": {
          "base_uri": "https://localhost:8080/"
        },
        "id": "xCpOOHHsOrVg",
        "outputId": "bd9b2d22-d42b-4234-f8b2-d25003cdcc71"
      },
      "source": [
        "\n",
        "# Evaluating the model on test set\n",
        "\n",
        "test_loss, test_acc = model.evaluate(test_X, test_y)\n",
        "\n",
        "print('\\nTesting Loss = ', test_loss) \n",
        "print('Testing Accuracy = ', test_acc)"
      ],
      "execution_count": 12,
      "outputs": [
        {
          "output_type": "stream",
          "text": [
            "313/313 [==============================] - 0s 1ms/step - loss: 0.0094 - accuracy: 0.9852\n",
            "\n",
            "Testing Loss =  0.009396258741617203\n",
            "Testing Accuracy =  0.9851999878883362\n"
          ],
          "name": "stdout"
        }
      ]
    },
    {
      "cell_type": "code",
      "metadata": {
        "colab": {
          "base_uri": "https://localhost:8080/"
        },
        "id": "LBWguSt0OvU6",
        "outputId": "dc23990b-de5c-4684-d24b-9d2644d67d6a"
      },
      "source": [
        "!pip install -q ann_visualizer\n",
        "\n",
        "from ann_visualizer.visualize import ann_viz;\n",
        "ann_viz(model, title=\"3-link manipulator neural network\")"
      ],
      "execution_count": 13,
      "outputs": [
        {
          "output_type": "stream",
          "text": [
            "  Building wheel for ann-visualizer (setup.py) ... \u001b[?25l\u001b[?25hdone\n"
          ],
          "name": "stdout"
        }
      ]
    },
    {
      "cell_type": "code",
      "metadata": {
        "id": "vgqCfwYrOxxJ"
      },
      "source": [
        "def iiitm_dataset():\n",
        "    rows = []\n",
        "\n",
        "    # for I\n",
        "    arr = np.linspace(5, 7, 100)\n",
        "    for y in arr:\n",
        "        x = 6\n",
        "        theta = math.degrees(math.atan(y/x))\n",
        "        rows.append([x, y, theta])\n",
        "\n",
        "    # for I\n",
        "    arr = np.linspace(5, 7, 100)\n",
        "    for y in arr:\n",
        "        x = 7\n",
        "        theta = math.degrees(math.atan(y/x))\n",
        "        rows.append([x, y, theta])\n",
        "\n",
        "    # for I\n",
        "    arr = np.linspace(5, 7, 100)\n",
        "    for y in arr:\n",
        "        x = 8\n",
        "        theta = math.degrees(math.atan(y/x))\n",
        "        rows.append([x, y, theta])\n",
        "\n",
        "    # for T\n",
        "    arr = np.linspace(8.5, 10.5, 100)\n",
        "    for x in arr:\n",
        "        y = 7\n",
        "        theta = math.degrees(math.atan(y/x))\n",
        "        rows.append([x, y, theta])\n",
        "\n",
        "    arr = np.linspace(5, 7, 100)\n",
        "    for y in arr:\n",
        "        x = 9.5\n",
        "        theta = math.degrees(math.atan(y/x))\n",
        "        rows.append([x, y, theta])\n",
        "\n",
        "    # for M\n",
        "    arr = np.linspace(5, 7, 100)\n",
        "    for y in arr:\n",
        "        x = 11\n",
        "        theta = math.degrees(math.atan(y/x))\n",
        "        rows.append([x, y, theta])\n",
        "\n",
        "    arr = np.linspace(5, 7, 100)\n",
        "    for y in arr:\n",
        "        x = ((-y)+29)/2\n",
        "        theta = math.degrees(math.atan(y/x))\n",
        "        rows.append([x, y, theta])\n",
        "\n",
        "    arr = np.linspace(5, 7, 100)\n",
        "    for y in arr:\n",
        "        x = ((y)+19)/2\n",
        "        theta = math.degrees(math.atan(y/x))\n",
        "        rows.append([x, y, theta])\n",
        "\n",
        "    arr = np.linspace(5, 7, 100)\n",
        "    for y in arr:\n",
        "        x = 13\n",
        "        theta = math.degrees(math.atan(y/x))\n",
        "        rows.append([x, y, theta])\n",
        "\n",
        "    df = pd.DataFrame(rows, columns=['x', 'y', 'theta'])\n",
        "    df.to_csv('iiitm.csv', index=False)\n",
        "    \n",
        "iiitm_dataset()"
      ],
      "execution_count": 14,
      "outputs": []
    },
    {
      "cell_type": "code",
      "metadata": {
        "id": "VnrWe37cO34L"
      },
      "source": [
        "def three_link_forward_kinematics(theta1, theta2, theta3):\n",
        "    x = (np.cos(theta1)*l1)+(np.cos(theta1+theta2)*l2)+(np.cos(theta1+theta2+theta3)*l3)\n",
        "    y = (np.sin(theta1)*l1)+(np.sin(theta1+theta2)*l2)+(np.sin(theta1+theta2+theta3)*l3)\n",
        "\n",
        "    return x, y"
      ],
      "execution_count": 15,
      "outputs": []
    },
    {
      "cell_type": "code",
      "metadata": {
        "id": "4ZBboPV-O6wW"
      },
      "source": [
        "iiitm_data = pd.read_csv('iiitm.csv')\n",
        "iiitm_predictions = model.predict(iiitm_data.values)\n",
        "x_predictions, y_predictions = three_link_forward_kinematics(iiitm_predictions[:,0], iiitm_predictions[:,1], iiitm_predictions[:,2])"
      ],
      "execution_count": 16,
      "outputs": []
    },
    {
      "cell_type": "code",
      "metadata": {
        "colab": {
          "base_uri": "https://localhost:8080/",
          "height": 763
        },
        "id": "cEbxFD3ZO8n-",
        "outputId": "a5f1ab39-05fd-40a6-aeaa-6eb97f80b116"
      },
      "source": [
        "# Original\n",
        "plt.plot(iiitm_data['x'], iiitm_data['y'], 'go')\n",
        "plt.show()\n",
        "\n",
        "# Predicted\n",
        "plt.plot(x_predictions, y_predictions, 'bo')\n",
        "plt.show()\n",
        "\n",
        "# Original and Predicted\n",
        "plt.plot(iiitm_data['x'], iiitm_data['y'], 'go')\n",
        "plt.plot(x_predictions, y_predictions, 'bo')\n",
        "plt.show()"
      ],
      "execution_count": 17,
      "outputs": [
        {
          "output_type": "display_data",
          "data": {
            "image/png": "[encoded data removed]",
            "text/plain": [
              "<Figure size 432x288 with 1 Axes>"
            ]
          },
          "metadata": {
            "tags": [],
            "needs_background": "light"
          }
        },
        {
          "output_type": "display_data",
          "data": {
            "image/png": "[encoded data removed]",
            "text/plain": [
              "<Figure size 432x288 with 1 Axes>"
            ]
          },
          "metadata": {
            "tags": [],
            "needs_background": "light"
          }
        },
        {
          "output_type": "display_data",
          "data": {
            "image/png": "[encoded data removed]",
            "text/plain": [
              "<Figure size 432x288 with 1 Axes>"
            ]
          },
          "metadata": {
            "tags": [],
            "needs_background": "light"
          }
        }
      ]
    },
    {
      "cell_type": "code",
      "metadata": {
        "id": "u805xfz_PAzt"
      },
      "source": [
        ""
      ],
      "execution_count": 17,
      "outputs": []
    }
  ]
}